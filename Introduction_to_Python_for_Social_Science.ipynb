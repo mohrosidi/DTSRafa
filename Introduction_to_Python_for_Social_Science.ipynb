{
  "nbformat": 4,
  "nbformat_minor": 0,
  "metadata": {
    "colab": {
      "name": "Introduction to Python for Social Science.ipynb",
      "provenance": [],
      "collapsed_sections": [],
      "toc_visible": true,
      "include_colab_link": true
    },
    "language_info": {
      "codemirror_mode": {
        "name": "ipython",
        "version": 3
      },
      "file_extension": ".py",
      "mimetype": "text/x-python",
      "name": "python",
      "nbconvert_exporter": "python",
      "pygments_lexer": "ipython3",
      "version": "3.7.3"
    },
    "kernelspec": {
      "display_name": "Python 3",
      "language": "python",
      "name": "python3"
    }
  },
  "cells": [
    {
      "cell_type": "markdown",
      "metadata": {
        "id": "view-in-github",
        "colab_type": "text"
      },
      "source": [
        "<a href=\"https://colab.research.google.com/github/rafasyafiq/DTSRafa/blob/master/Introduction_to_Python_for_Social_Science.ipynb\" target=\"_parent\"><img src=\"https://colab.research.google.com/assets/colab-badge.svg\" alt=\"Open In Colab\"/></a>"
      ]
    },
    {
      "cell_type": "markdown",
      "metadata": {
        "id": "px7U2SKDgpY7",
        "colab_type": "text"
      },
      "source": [
        "# Data Analytics for Social Science Introduction"
      ]
    },
    {
      "cell_type": "markdown",
      "metadata": {
        "id": "tY0tlG7vnLcv",
        "colab_type": "text"
      },
      "source": [
        "**Overview:** \n",
        "\n",
        "* Data Analytics untuk Memanipulasi data\n",
        "* Data Analytics untuk Visualisasi Data\n",
        "* Data Analytics untuk Analisis Data"
      ]
    },
    {
      "cell_type": "markdown",
      "metadata": {
        "id": "ydIkrMPmgpY9",
        "colab_type": "text"
      },
      "source": [
        "## Manipulasi Data menggunakan Pandas"
      ]
    },
    {
      "cell_type": "markdown",
      "metadata": {
        "id": "3fMuAO8cLrC_",
        "colab_type": "text"
      },
      "source": [
        "Ada berbanyak cara untuk melakukan manipulasi data menggunakan bahasa pemrograman python. Manipulasi data biasanya berguna untuk menyiapkan, merapihkan, menggabungkan, mengisi data kosong, hingga melakukan penghitungan matematis. Kali ini kita akan mennggunakan Library **Pandas** untuk melakukan manipulasi data"
      ]
    },
    {
      "cell_type": "code",
      "metadata": {
        "id": "gORhACongpY-",
        "colab_type": "code",
        "colab": {}
      },
      "source": [
        "# Meng-import library\n",
        "import pandas as pd"
      ],
      "execution_count": 0,
      "outputs": []
    },
    {
      "cell_type": "markdown",
      "metadata": {
        "id": "-DKrTxDpkHFP",
        "colab_type": "text"
      },
      "source": [
        "Dalam praktiknya kali ini kami akan menggunakan dataset Churn Pelanggan Telco yang tersedia di Kaggle. Dataset ini berisi catatan pelanggan yang unik untuk perusahaan telekomunikasi bernama Telco.\n",
        "\n",
        "Kumpulan data ini mencakup informasi tentang:\n",
        "* Layanan yang telah didaftarkan oleh setiap pelanggan - telepon, banyak saluran, internet, keamanan online, cadangan online, perlindungan perangkat, dukungan teknis, dan streaming TV dan film.\n",
        "* Informasi akun pelanggan - berapa lama mereka menjadi pelanggan, kontrak, metode pembayaran, penagihan tanpa kertas, biaya bulanan, dan total biaya.\n",
        "* Info demografis tentang pelanggan - jenis kelamin, rentang usia, dan jika mereka memiliki mitra dan tanggungan.\n",
        "* Pelanggan yang pergi dalam sebulan terakhir - kolom ini disebut Churn\n"
      ]
    },
    {
      "cell_type": "markdown",
      "metadata": {
        "id": "gE-qgU_qx-2H",
        "colab_type": "text"
      },
      "source": [
        "####Import dan Eksplorasi Data"
      ]
    },
    {
      "cell_type": "code",
      "metadata": {
        "id": "u3r3rlhDgpZC",
        "colab_type": "code",
        "colab": {}
      },
      "source": [
        "# Mengimport data dari URL (Github)\n",
        "df_link = pd.read_csv('https://raw.githubusercontent.com/rc-dbe/bigdatacertification/master/dataset/churn.csv', sep=';',)"
      ],
      "execution_count": 0,
      "outputs": []
    },
    {
      "cell_type": "code",
      "metadata": {
        "id": "VsNDG9csuEiM",
        "colab_type": "code",
        "colab": {}
      },
      "source": [
        "# Menginterpretasikan df_link sebagai variabel df\n",
        "df = df_link"
      ],
      "execution_count": 0,
      "outputs": []
    },
    {
      "cell_type": "code",
      "metadata": {
        "id": "4mGw9E9lvNFl",
        "colab_type": "code",
        "colab": {}
      },
      "source": [
        "# Menampilkan dimensi dari dataset\n",
        "df.shape"
      ],
      "execution_count": 0,
      "outputs": []
    },
    {
      "cell_type": "code",
      "metadata": {
        "id": "-c7eRawvgpZF",
        "colab_type": "code",
        "colab": {}
      },
      "source": [
        "# Menampilkan informasi tentang DataFrame termasuk indeks tipe dan tipe kolom, nilai bukan nol, dan penggunaan memori.\n",
        "df.info()"
      ],
      "execution_count": 0,
      "outputs": []
    },
    {
      "cell_type": "code",
      "metadata": {
        "id": "FLMRE4zCpkxt",
        "colab_type": "code",
        "colab": {}
      },
      "source": [
        "# Menampilkan 10 baris pertama\n",
        "df.head(10)"
      ],
      "execution_count": 0,
      "outputs": []
    },
    {
      "cell_type": "code",
      "metadata": {
        "id": "GJh_PXp1gpZI",
        "colab_type": "code",
        "colab": {}
      },
      "source": [
        "# Menampilkan 5 baris terakhir dari data set\n",
        "df.tail(5)"
      ],
      "execution_count": 0,
      "outputs": []
    },
    {
      "cell_type": "markdown",
      "metadata": {
        "id": "xhWgEylwgpZN",
        "colab_type": "text"
      },
      "source": [
        "#### Pengukuran Central Tendency"
      ]
    },
    {
      "cell_type": "code",
      "metadata": {
        "id": "UdUo4BjDgpZR",
        "colab_type": "code",
        "colab": {}
      },
      "source": [
        "# Memilih data yang bersifat numerik\n",
        "df_num = df[['MonthlyCharges', 'tenure', 'TotalCharges']]"
      ],
      "execution_count": 0,
      "outputs": []
    },
    {
      "cell_type": "code",
      "metadata": {
        "id": "-il0-wFugpZU",
        "colab_type": "code",
        "colab": {}
      },
      "source": [
        "# Menampilkan nilai rata-rata dari dataset\n",
        "mean= df_num.mean()\n",
        "mean"
      ],
      "execution_count": 0,
      "outputs": []
    },
    {
      "cell_type": "code",
      "metadata": {
        "id": "2anRdXrBgpZX",
        "colab_type": "code",
        "colab": {}
      },
      "source": [
        "# Menampilkan median dari dataset\n",
        "median= df_num.median()\n",
        "median"
      ],
      "execution_count": 0,
      "outputs": []
    },
    {
      "cell_type": "code",
      "metadata": {
        "id": "L8ijh_4GgpZb",
        "colab_type": "code",
        "colab": {}
      },
      "source": [
        "# Menampilkan modus dari dataset\n",
        "mode= df_num.mode()\n",
        "mode"
      ],
      "execution_count": 0,
      "outputs": []
    },
    {
      "cell_type": "code",
      "metadata": {
        "id": "lFUpikf0gpZO",
        "colab_type": "code",
        "colab": {}
      },
      "source": [
        "# Menampilkan statistik deskriptif yang merangkum kecenderungan utama, dispersi, dan bentuk distribusi dataset\n",
        "df.describe().transpose()"
      ],
      "execution_count": 0,
      "outputs": []
    },
    {
      "cell_type": "markdown",
      "metadata": {
        "id": "kX5UrnL-gpZe",
        "colab_type": "text"
      },
      "source": [
        "#### Melakukan Pengukuran Korelasi"
      ]
    },
    {
      "cell_type": "markdown",
      "metadata": {
        "id": "8md7N1z75AO0",
        "colab_type": "text"
      },
      "source": [
        "Untuk menemukan korelasi berpasangan dari semua kolom dalam bingkai data, kita dapat menggunakan fungsi dataframe.corr () dari Pandas. Nilai NA apa pun secara otomatis dikecualikan dan\n",
        "setiap kolom tipe data non-numerik dalam bingkai data secara otomatis diabaikan. Baca dokumentasinya [Disini](https://https://pandas.pydata.org/pandas-docs/stable/reference/api/pandas.DataFrame.corr.html). \n",
        "\n",
        "Terdapat empat korelasi yang tersedia pada Library Pandas\n",
        "*  pearson: standard correlation coefficient\n",
        "*  kendall: Kendall Tau correlation coefficient\n",
        "*  spearman: Spearman rank correlation\n",
        "*  callable: callable with input two 1d ndarrays"
      ]
    },
    {
      "cell_type": "code",
      "metadata": {
        "id": "CN9NCDiagpZf",
        "colab_type": "code",
        "colab": {}
      },
      "source": [
        "# Melakukan pengukuran korelasi data numerik dengan menggunakan cendaal correlation\n",
        "correlation_matrix = df.corr(method='kendall')\n",
        "\n",
        "# Menampilkan matriks hasil pengukuran korelasi\n",
        "correlation_matrix"
      ],
      "execution_count": 0,
      "outputs": []
    },
    {
      "cell_type": "markdown",
      "metadata": {
        "id": "Q8qc25s-lWcb",
        "colab_type": "text"
      },
      "source": [
        "#### Tabel Kontingensi"
      ]
    },
    {
      "cell_type": "code",
      "metadata": {
        "id": "F7b99uKZgpZu",
        "colab_type": "code",
        "colab": {}
      },
      "source": [
        "# Melakukann penghitunghan dan menampilkan tabel kontingensi\n",
        "data_crosstab = pd.crosstab(df['PaymentMethod'], \n",
        "                            df['Churn'],  \n",
        "                               margins = False) \n",
        "print(data_crosstab) "
      ],
      "execution_count": 0,
      "outputs": []
    },
    {
      "cell_type": "markdown",
      "metadata": {
        "id": "coVtdbKZgpZw",
        "colab_type": "text"
      },
      "source": [
        "### Mengatasi Missing Value"
      ]
    },
    {
      "cell_type": "code",
      "metadata": {
        "id": "NiUkLhrkgpZx",
        "colab_type": "code",
        "colab": {}
      },
      "source": [
        "# Menampilkan missing value dari dataset\n",
        "df.isnull().sum()"
      ],
      "execution_count": 0,
      "outputs": []
    },
    {
      "cell_type": "code",
      "metadata": {
        "id": "JOu0DpPggpZz",
        "colab_type": "code",
        "colab": {}
      },
      "source": [
        "# Mengisi dataset dengan nilai median\n",
        "tc_median = df[\"TotalCharges\"].median()\n",
        "df[\"TotalCharges\"].fillna(tc_median, inplace=True)"
      ],
      "execution_count": 0,
      "outputs": []
    },
    {
      "cell_type": "code",
      "metadata": {
        "id": "9v5TGOyZkrs3",
        "colab_type": "code",
        "colab": {}
      },
      "source": [
        "# Menampilkan informasi dataset untuk memeriksa apakah masih terdapat missing value\n",
        "df.info()"
      ],
      "execution_count": 0,
      "outputs": []
    },
    {
      "cell_type": "markdown",
      "metadata": {
        "colab_type": "text",
        "id": "b8tpxPrW0elk"
      },
      "source": [
        "### Melakukan Encoding untuk variabel categorical"
      ]
    },
    {
      "cell_type": "code",
      "metadata": {
        "colab_type": "code",
        "id": "vMLP_7kk0eln",
        "colab": {}
      },
      "source": [
        "# Install Category Encoders\n",
        "! pip install category_encoders"
      ],
      "execution_count": 0,
      "outputs": []
    },
    {
      "cell_type": "code",
      "metadata": {
        "colab_type": "code",
        "id": "Z11vcakw0elp",
        "colab": {}
      },
      "source": [
        "import category_encoders as ce\n",
        "\n",
        "encoder = ce.BinaryEncoder(cols=['gender', \n",
        "          'SeniorCitizen', \n",
        "          'Partner', \n",
        "          'Dependents', \n",
        "          'PhoneService', \n",
        "          'MultipleLines', \n",
        "          'InternetService', \n",
        "          'OnlineSecurity', \n",
        "          'OnlineBackup', \n",
        "          'DeviceProtection', \n",
        "          'TechSupport', \n",
        "          'StreamingTV', \n",
        "          'StreamingMovies', \n",
        "          'Contract', \n",
        "          'PaperlessBilling', \n",
        "          'PaymentMethod'])\n",
        "df_binary = encoder.fit_transform(df)\n",
        "\n",
        "df_binary.head()"
      ],
      "execution_count": 0,
      "outputs": []
    },
    {
      "cell_type": "code",
      "metadata": {
        "colab_type": "code",
        "id": "XvSf_ZgR0elr",
        "colab": {}
      },
      "source": [
        "df_binary.info()"
      ],
      "execution_count": 0,
      "outputs": []
    },
    {
      "cell_type": "code",
      "metadata": {
        "colab_type": "code",
        "id": "bAvKjEiL0elt",
        "colab": {}
      },
      "source": [
        "df = df_binary.drop(\"customerID\", axis=1)\n",
        "df.head()"
      ],
      "execution_count": 0,
      "outputs": []
    },
    {
      "cell_type": "markdown",
      "metadata": {
        "id": "2iDF9ZpE3A9O",
        "colab_type": "text"
      },
      "source": [
        ""
      ]
    },
    {
      "cell_type": "markdown",
      "metadata": {
        "id": "kKUSKeKQgpaG",
        "colab_type": "text"
      },
      "source": [
        "### Normalisasi"
      ]
    },
    {
      "cell_type": "markdown",
      "metadata": {
        "id": "GnJR_YMXIvf2",
        "colab_type": "text"
      },
      "source": [
        "Normalisasi adalah mengubah nilai dari data dengan skala [0,1]"
      ]
    },
    {
      "cell_type": "code",
      "metadata": {
        "id": "wIBVK9AaYZ_-",
        "colab_type": "code",
        "colab": {}
      },
      "source": [
        "column_names = df.columns.tolist()\n",
        "column_names.remove('Churn')\n",
        "column_names"
      ],
      "execution_count": 0,
      "outputs": []
    },
    {
      "cell_type": "code",
      "metadata": {
        "id": "l2IFv4xogpaG",
        "colab_type": "code",
        "colab": {}
      },
      "source": [
        "#Import MinMax Scaler\n",
        "from sklearn.preprocessing import MinMaxScaler\n",
        "\n",
        "# initialize min-max scaler\n",
        "mm_scaler = MinMaxScaler()\n",
        "df_norm = df.copy()\n",
        "\n",
        "# Mengubah seluruh atribut\n",
        "df_norm[column_names] = mm_scaler.fit_transform(df_norm[column_names])\n",
        "df_norm.sort_index(inplace=True)\n",
        "df_norm.head()"
      ],
      "execution_count": 0,
      "outputs": []
    },
    {
      "cell_type": "markdown",
      "metadata": {
        "id": "yScFsnHGgpaI",
        "colab_type": "text"
      },
      "source": [
        "### Standarisasi"
      ]
    },
    {
      "cell_type": "markdown",
      "metadata": {
        "id": "AsYTTrjyIyrl",
        "colab_type": "text"
      },
      "source": [
        "Standarisasi biasanya berarti menskala ulang data untuk memiliki rata-rata 0 dan standar deviasi 1 (varian unit)."
      ]
    },
    {
      "cell_type": "code",
      "metadata": {
        "id": "TRZPxQT5gpaI",
        "colab_type": "code",
        "colab": {}
      },
      "source": [
        "# Import Standard Scaler\n",
        "from sklearn.preprocessing import StandardScaler\n",
        "\n",
        "# Initizalize Standard Scaler\n",
        "standard_scaler = StandardScaler()\n",
        "df_stand = df.copy()\n",
        "\n",
        "# Transform all attributes\n",
        "df_stand[column_names] = standard_scaler.fit_transform(df_stand[column_names])\n",
        "df_stand.sort_index(inplace=True)\n",
        "df_stand.head()"
      ],
      "execution_count": 0,
      "outputs": []
    },
    {
      "cell_type": "markdown",
      "metadata": {
        "id": "y8Iklg9p3Or9",
        "colab_type": "text"
      },
      "source": [
        "##Visualisasi Data dengan Menggunakan MatplotLib\n",
        "Matplotlib merupakan sebuah library yang dapat terintegrasi dengan pandas dan Numpy, yang bertujuan untuk melakukan visualisasi data\n"
      ]
    },
    {
      "cell_type": "code",
      "metadata": {
        "id": "tgC--BSH3ybY",
        "colab_type": "code",
        "colab": {}
      },
      "source": [
        "# Import Dataset, kali ini kita akan mengimport data yang sama dengan data sebelumnya\n",
        "# Import ulang dilakukan untuk melakukan visualisasi data yang belum di manipulasi\n",
        "df_viz = pd.read_csv('https://raw.githubusercontent.com/rc-dbe/bigdatacertification/master/dataset/churn.csv', sep=';',)"
      ],
      "execution_count": 0,
      "outputs": []
    },
    {
      "cell_type": "code",
      "metadata": {
        "id": "ITFnE_BxmoMQ",
        "colab_type": "code",
        "colab": {}
      },
      "source": [
        "# Import Library\n",
        "import seaborn as sns\n",
        "import matplotlib.pyplot as plt\n",
        "import warnings\n",
        "warnings.filterwarnings('ignore')\n",
        "%matplotlib inline\n",
        "\n",
        "plt.rcParams['figure.figsize'] = (7, 7)\n",
        "plt.style.use('ggplot')"
      ],
      "execution_count": 0,
      "outputs": []
    },
    {
      "cell_type": "markdown",
      "metadata": {
        "id": "cG0EUWG78LP_",
        "colab_type": "text"
      },
      "source": [
        "Kita dapat menyesuaikan plot dengan style sheet.\n",
        "Ada sejumlah gaya yang telah ditentukan yang disediakan oleh matplotlib, yang dapat dilihat [Disini](https://matplotlib.org/3.1.0/gallery/style_sheets/style_sheets_reference.html)"
      ]
    },
    {
      "cell_type": "markdown",
      "metadata": {
        "id": "gcnTPRevla0J",
        "colab_type": "text"
      },
      "source": [
        "#### Memvisualisasikan Distribusi Data"
      ]
    },
    {
      "cell_type": "code",
      "metadata": {
        "id": "Q4uZuG-mgpZn",
        "colab_type": "code",
        "colab": {}
      },
      "source": [
        "# Visualize Data Distribution\n",
        "sns.distplot(df_viz['MonthlyCharges'])"
      ],
      "execution_count": 0,
      "outputs": []
    },
    {
      "cell_type": "markdown",
      "metadata": {
        "id": "G7RT7Y8lhGil",
        "colab_type": "text"
      },
      "source": [
        "#### Scatter Plot"
      ]
    },
    {
      "cell_type": "code",
      "metadata": {
        "id": "BIWERVqagpZi",
        "colab_type": "code",
        "colab": {}
      },
      "source": [
        "# Scatter Plot\n",
        "sns.scatterplot(x=\"tenure\", y=\"TotalCharges\", data= df_viz)"
      ],
      "execution_count": 0,
      "outputs": []
    },
    {
      "cell_type": "markdown",
      "metadata": {
        "id": "I3w3PPA5hN6t",
        "colab_type": "text"
      },
      "source": [
        "#### Bar Chart"
      ]
    },
    {
      "cell_type": "code",
      "metadata": {
        "id": "hoSaQnhMgpZl",
        "colab_type": "code",
        "colab": {}
      },
      "source": [
        "# Bar Chart\n",
        "sns.barplot(x='Churn',y='tenure',data=df_viz)"
      ],
      "execution_count": 0,
      "outputs": []
    },
    {
      "cell_type": "markdown",
      "metadata": {
        "id": "fRWVPLyOl8Z5",
        "colab_type": "text"
      },
      "source": [
        "#### Pairwise Relationship"
      ]
    },
    {
      "cell_type": "code",
      "metadata": {
        "id": "xilrUGLygpZp",
        "colab_type": "code",
        "colab": {}
      },
      "source": [
        "# Pairwise relationships\n",
        "sns.pairplot(df_viz)"
      ],
      "execution_count": 0,
      "outputs": []
    },
    {
      "cell_type": "markdown",
      "metadata": {
        "id": "bwaZ5uOe4sJ6",
        "colab_type": "text"
      },
      "source": [
        "## Menganalisis Data dengan Scikit-Learn\n",
        "Scikit-learn, atau biasa dikenal dengan SKLearn, merupakan sebuah package library python yang menyediakan berbagai modul untuk melakukan proses *machine learning*\n",
        "\n",
        "Pada praktik kali ini kita akan mencontohkan untuk melakukan sedikit analisis regresi linear menggunakan bahasa pemrograman python"
      ]
    },
    {
      "cell_type": "markdown",
      "metadata": {
        "id": "AJO0VWyj50K1",
        "colab_type": "text"
      },
      "source": [
        "###Regresi Linear\n",
        "Sebuah pendekatan untuk memodelkan hubungan antara variabel terikat Y dan satu atau lebih variabel bebas yang disebut X. Salah satu kegunaan dari regresi linear adalah untuk melakukan prediksi berdasarkan data-data yang telah dimiliki sebelumnya."
      ]
    },
    {
      "cell_type": "code",
      "metadata": {
        "id": "pG8XEQ81kZ-G",
        "colab_type": "code",
        "colab": {}
      },
      "source": [
        "# Import library\n",
        "import pandas as pd"
      ],
      "execution_count": 0,
      "outputs": []
    },
    {
      "cell_type": "code",
      "metadata": {
        "id": "O8nhTOlJkbJJ",
        "colab_type": "code",
        "colab": {}
      },
      "source": [
        "# Import Dataset\n",
        "salary_df = pd.read_csv('https://raw.githubusercontent.com/rc-dbe/bigdatacertification/master/dataset/Salary_Data.csv')"
      ],
      "execution_count": 0,
      "outputs": []
    },
    {
      "cell_type": "code",
      "metadata": {
        "id": "BVdKdyCSkeha",
        "colab_type": "code",
        "colab": {}
      },
      "source": [
        "Melihat Informasi Dataset\n",
        "salary_df.info()"
      ],
      "execution_count": 0,
      "outputs": []
    },
    {
      "cell_type": "code",
      "metadata": {
        "id": "JV7wg7DtkiQr",
        "colab_type": "code",
        "colab": {}
      },
      "source": [
        "# Menampilkan 30 baris pertama dari dataset\n",
        "salary_df.head(30)"
      ],
      "execution_count": 0,
      "outputs": []
    },
    {
      "cell_type": "code",
      "metadata": {
        "id": "1fmuLjD-kt3X",
        "colab_type": "code",
        "colab": {}
      },
      "source": [
        "# Menampilkan statistik deskriptif yang merangkum kecenderungan sentral, dispersi, dan bentuk distribusi dataset\n",
        "salary_df.describe().transpose()"
      ],
      "execution_count": 0,
      "outputs": []
    },
    {
      "cell_type": "code",
      "metadata": {
        "id": "Exic04XfkwyZ",
        "colab_type": "code",
        "colab": {}
      },
      "source": [
        "# Import Library untuk Memvisualisasikan the Data\n",
        "import seaborn as sns\n",
        "import matplotlib.pyplot as plt\n",
        "import warnings\n",
        "warnings.filterwarnings('ignore')\n",
        "%matplotlib inline\n",
        "\n",
        "\n",
        "plt.rcParams['figure.figsize'] = (7, 7)\n",
        "plt.style.use('ggplot')\n",
        "\n",
        "# Menampilkan distribusi data\n",
        "sns.scatterplot(x=\"YearsExperience\", y=\"Salary\", data= salary_df)\n"
      ],
      "execution_count": 0,
      "outputs": []
    },
    {
      "cell_type": "code",
      "metadata": {
        "id": "8xgX9Jkfk4AT",
        "colab_type": "code",
        "colab": {}
      },
      "source": [
        "# Menentukan variabel x dan y\n",
        "X = salary_df.iloc[:, :-1].values\n",
        "Y = salary_df.iloc[:, 1].values"
      ],
      "execution_count": 0,
      "outputs": []
    },
    {
      "cell_type": "code",
      "metadata": {
        "id": "w2yQk0gHk7hK",
        "colab_type": "code",
        "colab": {}
      },
      "source": [
        "# Membuat pemodelan data\n",
        "from sklearn.linear_model import LinearRegression\n",
        "\n",
        "lr = LinearRegression()\n",
        "lr.fit(X, Y)"
      ],
      "execution_count": 0,
      "outputs": []
    },
    {
      "cell_type": "code",
      "metadata": {
        "id": "RhzxP266XKc9",
        "colab_type": "code",
        "colab": {}
      },
      "source": [
        "# Menampilkan koefisien dan intersep (konstan)\n",
        "print('Coefficient = ', lr.coef_)\n",
        "print('Intercept =', lr.intercept_)"
      ],
      "execution_count": 0,
      "outputs": []
    },
    {
      "cell_type": "code",
      "metadata": {
        "id": "iMDU36QNwJoh",
        "colab_type": "code",
        "colab": {}
      },
      "source": [
        "plt.scatter(X, Y)\n",
        "plt.plot(X, lr.predict(X), color = \"green\")\n",
        "plt.title(\"Salary vs Experience\")\n",
        "plt.xlabel(\"Years of Experience\")\n",
        "plt.ylabel(\"Salary\")\n",
        "plt.show()"
      ],
      "execution_count": 0,
      "outputs": []
    },
    {
      "cell_type": "markdown",
      "metadata": {
        "id": "Qhob4F9-9-NW",
        "colab_type": "text"
      },
      "source": [
        "##Menganalisis Data dengan NetworkX\n",
        "Library python untuk pembuatan, manipulasi, dan studi tentang struktur, dinamika, dan fungsi jaringan yang kompleks."
      ]
    },
    {
      "cell_type": "markdown",
      "metadata": {
        "id": "hlgKwrqs-zo_",
        "colab_type": "text"
      },
      "source": [
        "### Social Network Analysis"
      ]
    },
    {
      "cell_type": "code",
      "metadata": {
        "id": "GUEfG5Wa_odk",
        "colab_type": "code",
        "colab": {}
      },
      "source": [
        "# Import Library\n",
        "import networkx as nx"
      ],
      "execution_count": 0,
      "outputs": []
    },
    {
      "cell_type": "markdown",
      "metadata": {
        "id": "R6GXRHu7T5vs",
        "colab_type": "text"
      },
      "source": [
        "Kita akan menggunakan random graph pada percobaan kali ini"
      ]
    },
    {
      "cell_type": "code",
      "metadata": {
        "id": "adZTWtrl6S-A",
        "colab_type": "code",
        "colab": {}
      },
      "source": [
        "# Import Dataset\n",
        "n = 10  # Mengambil 10 nodes\n",
        "m = 20  # Menhgambil 20 edges\n",
        "G = nx.gnm_random_graph(n, m)"
      ],
      "execution_count": 0,
      "outputs": []
    },
    {
      "cell_type": "code",
      "metadata": {
        "id": "iD_0utuHAhcr",
        "colab_type": "code",
        "colab": {}
      },
      "source": [
        "#Menampilkan degree dan nilai cluster dari masing masing node\n",
        "print(\"node degree clustering\")\n",
        "for v in nx.nodes(G):\n",
        "    print('%s %d %f' % (v, nx.degree(G, v), nx.clustering(G, v)))\n"
      ],
      "execution_count": 0,
      "outputs": []
    },
    {
      "cell_type": "code",
      "metadata": {
        "id": "IogIYTp3A8nh",
        "colab_type": "code",
        "colab": {}
      },
      "source": [
        "# Menampilkan adjacency list\n",
        "for line in nx.generate_adjlist(G):\n",
        "    print(line)"
      ],
      "execution_count": 0,
      "outputs": []
    },
    {
      "cell_type": "code",
      "metadata": {
        "id": "L5109UyDBG8F",
        "colab_type": "code",
        "colab": {}
      },
      "source": [
        "#Melakukan Visualisasi Data\n",
        "nx.draw(G)\n",
        "plt.show()"
      ],
      "execution_count": 0,
      "outputs": []
    }
  ]
}